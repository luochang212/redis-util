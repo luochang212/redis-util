{
 "cells": [
  {
   "cell_type": "markdown",
   "id": "14cce723-b64e-4ada-b2ac-98dfa74ca938",
   "metadata": {},
   "source": [
    "# 安装 Redis\n",
    "\n",
    "使用官方的 Docker 镜像安装 Redis.\n",
    "\n",
    "- Docker Hub: [redis](https://hub.docker.com/_/redis/)\n",
    "- GitHub: [redis/docker-library-redis](https://github.com/redis/docker-library-redis)\n",
    "\n",
    "当前最新的版本是 7.4.0，考虑到我的五星级神机可能受不了太重的 Docker 环境，最终决定使用 [7.4.0-alpine](https://github.com/redis/docker-library-redis/blob/master/7.4/alpine/Dockerfile)."
   ]
  },
  {
   "cell_type": "code",
   "execution_count": 1,
   "id": "dbae168d-9a9d-4a84-937b-344d40d488db",
   "metadata": {
    "execution": {
     "iopub.execute_input": "2024-08-15T09:52:06.215709Z",
     "iopub.status.busy": "2024-08-15T09:52:06.215333Z",
     "iopub.status.idle": "2024-08-15T09:52:06.286133Z",
     "shell.execute_reply": "2024-08-15T09:52:06.285245Z",
     "shell.execute_reply.started": "2024-08-15T09:52:06.215680Z"
    }
   },
   "outputs": [],
   "source": [
    "# !pip install redis\n",
    "\n",
    "import time\n",
    "import redis\n",
    "\n",
    "import util"
   ]
  },
  {
   "cell_type": "markdown",
   "id": "41f5216e-d6ff-4978-8b99-38536c89c7ab",
   "metadata": {
    "execution": {
     "iopub.execute_input": "2024-08-15T07:38:52.528174Z",
     "iopub.status.busy": "2024-08-15T07:38:52.526045Z",
     "iopub.status.idle": "2024-08-15T07:38:52.547631Z",
     "shell.execute_reply": "2024-08-15T07:38:52.545951Z",
     "shell.execute_reply.started": "2024-08-15T07:38:52.528129Z"
    }
   },
   "source": [
    "## 1. 下载镜像文件\n",
    "\n",
    "来到 Dockerfile 所在目录，运行以下代码构建镜像：\n",
    "\n",
    "```\n",
    "# 从项目的根目录到 Dockerfile 所在目录\n",
    "cd alpine\n",
    "\n",
    "# 构建镜像\n",
    "docker build -t redis-alpine-image .\n",
    "\n",
    "# 查看所有 Docker 镜像\n",
    "docker images\n",
    "```\n",
    "\n",
    "> 注意：我的机器 Dockerfile 必须加上 `RUN chmod +x /usr/local/bin/docker-entrypoint.sh` 才能运行成功，如果你用原版 Dockerfile 运行失败不妨试试。\n",
    "\n",
    "## 2. 启动容器\n",
    "\n",
    "一旦镜像构建完成，通过以下命令启动一个容器：\n",
    "\n",
    "```\n",
    "mkdir -p $(pwd)/../data\n",
    "docker run --name some-redis \\\n",
    "    -p 6379:6379 \\\n",
    "    -v $(pwd)/../data:/data \\\n",
    "    -d redis-alpine-image \\\n",
    "    redis-server --save 60 1 --loglevel warning\n",
    "```\n",
    "\n",
    "其中：\n",
    "\n",
    "- `--name some-redis`: 表示将当前容器命名为 `some-redis`\n",
    "- `-p 6379:6379`: 将容器的 6379 端口映射到本机 6379 端口\n",
    "- `-v $(pwd)/../data:/data`: 将容器的 `/data` 挂载到本地 `./data` 目录\n",
    "- `-d`: 后台运行\n",
    "- `redis-server --save 60 1 --loglevel warning`: 每 60 秒且至少有 1 次提交时做持久化，并将日志等级设为 warning\n",
    "\n",
    "## 3. 交互式 shell\n",
    "\n",
    "在容器内运行一个交互式 shell 会话：\n",
    "\n",
    "```\n",
    "docker exec -it some-redis /bin/sh\n",
    "```\n",
    "\n",
    "这可以帮助你了解容器的内部情况。在会话内运行：\n",
    "\n",
    "```\n",
    "redis-cli\n",
    "ping\n",
    "```\n",
    "\n",
    "返回：`PONG`"
   ]
  },
  {
   "cell_type": "markdown",
   "id": "35388577-5e06-465b-bce6-a9147b797f0a",
   "metadata": {
    "execution": {
     "iopub.execute_input": "2024-08-15T09:20:02.205103Z",
     "iopub.status.busy": "2024-08-15T09:20:02.201496Z",
     "iopub.status.idle": "2024-08-15T09:20:02.223524Z",
     "shell.execute_reply": "2024-08-15T09:20:02.222754Z",
     "shell.execute_reply.started": "2024-08-15T09:20:02.205050Z"
    }
   },
   "source": [
    "## 4. 测试连接 "
   ]
  },
  {
   "cell_type": "code",
   "execution_count": 2,
   "id": "f5ce1851-ff98-4f0d-892a-e65477e42a03",
   "metadata": {
    "execution": {
     "iopub.execute_input": "2024-08-15T09:52:06.287510Z",
     "iopub.status.busy": "2024-08-15T09:52:06.287117Z",
     "iopub.status.idle": "2024-08-15T09:52:06.295619Z",
     "shell.execute_reply": "2024-08-15T09:52:06.295031Z",
     "shell.execute_reply.started": "2024-08-15T09:52:06.287485Z"
    }
   },
   "outputs": [
    {
     "name": "stdout",
     "output_type": "stream",
     "text": [
      "True\n"
     ]
    }
   ],
   "source": [
    "# 创建一个 Redis 连接\n",
    "r = redis.Redis(host='localhost', port=6379, db=0)\n",
    "\n",
    "# 测试连接\n",
    "print(r.ping())"
   ]
  },
  {
   "cell_type": "code",
   "execution_count": 3,
   "id": "b0301942-6cbd-47e4-95f8-268edb1695d5",
   "metadata": {
    "execution": {
     "iopub.execute_input": "2024-08-15T09:52:06.296548Z",
     "iopub.status.busy": "2024-08-15T09:52:06.296340Z",
     "iopub.status.idle": "2024-08-15T09:52:06.302565Z",
     "shell.execute_reply": "2024-08-15T09:52:06.301692Z",
     "shell.execute_reply.started": "2024-08-15T09:52:06.296527Z"
    }
   },
   "outputs": [
    {
     "name": "stdout",
     "output_type": "stream",
     "text": [
      "b'bar'\n"
     ]
    }
   ],
   "source": [
    "# 执行一些 Redis 命令\n",
    "r.set('foo', 'bar')\n",
    "print(r.get('foo'))"
   ]
  },
  {
   "cell_type": "code",
   "execution_count": 4,
   "id": "6f815977-6100-4c59-b632-ecb28fdd93c0",
   "metadata": {
    "execution": {
     "iopub.execute_input": "2024-08-15T09:52:06.303890Z",
     "iopub.status.busy": "2024-08-15T09:52:06.303611Z",
     "iopub.status.idle": "2024-08-15T09:52:06.312033Z",
     "shell.execute_reply": "2024-08-15T09:52:06.311336Z",
     "shell.execute_reply.started": "2024-08-15T09:52:06.303868Z"
    }
   },
   "outputs": [
    {
     "data": {
      "text/plain": [
       "1"
      ]
     },
     "execution_count": 4,
     "metadata": {},
     "output_type": "execute_result"
    }
   ],
   "source": [
    "# 删除 foo\n",
    "r.delete('foo')"
   ]
  },
  {
   "cell_type": "markdown",
   "id": "b9c55d58-9532-409d-bbcd-b0821f9025b6",
   "metadata": {},
   "source": [
    "## 5. 处理 CURD 逻辑\n",
    "\n",
    "写一个自定义的 `util.RedisHandler` 类，来处理 Redis 的 CURD 逻辑。"
   ]
  },
  {
   "cell_type": "code",
   "execution_count": 5,
   "id": "79330efd-333f-494c-a1a0-1f6100d5ca04",
   "metadata": {
    "execution": {
     "iopub.execute_input": "2024-08-15T09:52:06.315868Z",
     "iopub.status.busy": "2024-08-15T09:52:06.315592Z",
     "iopub.status.idle": "2024-08-15T09:52:06.329095Z",
     "shell.execute_reply": "2024-08-15T09:52:06.328071Z",
     "shell.execute_reply.started": "2024-08-15T09:52:06.315846Z"
    }
   },
   "outputs": [
    {
     "name": "stdout",
     "output_type": "stream",
     "text": [
      "rh.set: True\n",
      "rh.set_with_expire: True\n",
      "rh.update: True\n",
      "rh.get: 3\n"
     ]
    }
   ],
   "source": [
    "rh = util.RedisHandler()\n",
    "sleep_time = 5\n",
    "\n",
    "print(f'rh.set: {rh.set(\"a\", \"1\")}')\n",
    "print(f'rh.set_with_expire: {rh.set_with_expire(\"b\", \"2\", sleep_time)}')\n",
    "print(f'rh.update: {rh.update(\"a\", \"3\")}')\n",
    "print(f'rh.get: {rh.get(\"a\").decode(\"utf-8\")}')"
   ]
  },
  {
   "cell_type": "markdown",
   "id": "b548d251-de5a-48a8-9579-b8168e8df1b4",
   "metadata": {},
   "source": [
    "检查过期功能是否符合预期"
   ]
  },
  {
   "cell_type": "code",
   "execution_count": 6,
   "id": "b8f822fa-f42c-423b-9115-7fb82c492c2c",
   "metadata": {
    "execution": {
     "iopub.execute_input": "2024-08-15T09:52:06.330719Z",
     "iopub.status.busy": "2024-08-15T09:52:06.330341Z",
     "iopub.status.idle": "2024-08-15T09:52:11.343524Z",
     "shell.execute_reply": "2024-08-15T09:52:11.342163Z",
     "shell.execute_reply.started": "2024-08-15T09:52:06.330695Z"
    }
   },
   "outputs": [
    {
     "name": "stdout",
     "output_type": "stream",
     "text": [
      "rh.get: b'2'\n",
      "sleep 5 seconds ...\n",
      "rh.get: None\n"
     ]
    }
   ],
   "source": [
    "print(f'rh.get: {rh.get(\"b\")}')\n",
    "print(f'sleep {sleep_time} seconds ...')\n",
    "time.sleep(sleep_time)\n",
    "print(f'rh.get: {rh.get(\"b\")}')"
   ]
  },
  {
   "cell_type": "code",
   "execution_count": null,
   "id": "c27484c7-019b-4483-9069-148be6bc06ee",
   "metadata": {},
   "outputs": [],
   "source": []
  }
 ],
 "metadata": {
  "kernelspec": {
   "display_name": "Python 3 (ipykernel)",
   "language": "python",
   "name": "python3"
  },
  "language_info": {
   "codemirror_mode": {
    "name": "ipython",
    "version": 3
   },
   "file_extension": ".py",
   "mimetype": "text/x-python",
   "name": "python",
   "nbconvert_exporter": "python",
   "pygments_lexer": "ipython3",
   "version": "3.10.14"
  }
 },
 "nbformat": 4,
 "nbformat_minor": 5
}
