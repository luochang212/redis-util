{
 "cells": [
  {
   "cell_type": "markdown",
   "id": "566215a6-c3e8-43a8-bfdd-16e33f4dd7de",
   "metadata": {
    "execution": {
     "iopub.execute_input": "2024-08-19T09:29:26.095717Z",
     "iopub.status.busy": "2024-08-19T09:29:26.095283Z",
     "iopub.status.idle": "2024-08-19T09:29:26.098686Z",
     "shell.execute_reply": "2024-08-19T09:29:26.097907Z",
     "shell.execute_reply.started": "2024-08-19T09:29:26.095694Z"
    }
   },
   "source": [
    "# 自制强化版向量引擎\n",
    "\n",
    "Milvue 至今仍不支持设置索引过期时间。对我而言这是很重要的功能。毕竟本地机器内存有限，你也不想用着用着突然死机对吧。但我又眼馋 Milvue 方便的嵌入生成功能。怎么办呢？只能自己动手，写一个拥有嵌入生成功能的 Redis 向量索引工具。"
   ]
  },
  {
   "cell_type": "code",
   "execution_count": 1,
   "id": "b3700627-3704-4563-93ea-c01457b16b96",
   "metadata": {
    "execution": {
     "iopub.execute_input": "2024-08-19T15:16:50.788830Z",
     "iopub.status.busy": "2024-08-19T15:16:50.787997Z",
     "iopub.status.idle": "2024-08-19T15:16:50.793696Z",
     "shell.execute_reply": "2024-08-19T15:16:50.792164Z",
     "shell.execute_reply.started": "2024-08-19T15:16:50.788767Z"
    }
   },
   "outputs": [],
   "source": [
    "# !pip install --upgrade sentence-transformers"
   ]
  },
  {
   "cell_type": "code",
   "execution_count": 2,
   "id": "5abb2443-6978-422b-b7e7-b49b0474f182",
   "metadata": {
    "execution": {
     "iopub.execute_input": "2024-08-19T15:16:50.796420Z",
     "iopub.status.busy": "2024-08-19T15:16:50.795829Z",
     "iopub.status.idle": "2024-08-19T15:17:12.294180Z",
     "shell.execute_reply": "2024-08-19T15:17:12.293005Z",
     "shell.execute_reply.started": "2024-08-19T15:16:50.796370Z"
    }
   },
   "outputs": [],
   "source": [
    "import os\n",
    "import numpy as np\n",
    "import pandas as pd\n",
    "from swifter import swifter\n",
    "\n",
    "from sentence_transformers import SentenceTransformer\n",
    "\n",
    "import util"
   ]
  },
  {
   "cell_type": "code",
   "execution_count": 3,
   "id": "130ecd7e-771b-45c5-a1a0-90b214079c2c",
   "metadata": {
    "execution": {
     "iopub.execute_input": "2024-08-19T15:17:12.296238Z",
     "iopub.status.busy": "2024-08-19T15:17:12.295486Z",
     "iopub.status.idle": "2024-08-19T15:17:12.300758Z",
     "shell.execute_reply": "2024-08-19T15:17:12.299953Z",
     "shell.execute_reply.started": "2024-08-19T15:17:12.296208Z"
    }
   },
   "outputs": [],
   "source": [
    "MODEL_PATH = './all-MiniLM-L6-v2'\n",
    "DEFAULT_MODEL = 'sentence-transformers/all-MiniLM-L6-v2'"
   ]
  },
  {
   "cell_type": "markdown",
   "id": "cfd791c3-d282-44c7-8ae7-f00d42c59285",
   "metadata": {
    "execution": {
     "iopub.execute_input": "2024-08-19T09:46:52.772393Z",
     "iopub.status.busy": "2024-08-19T09:46:52.769583Z",
     "iopub.status.idle": "2024-08-19T09:46:52.785773Z",
     "shell.execute_reply": "2024-08-19T09:46:52.783778Z",
     "shell.execute_reply.started": "2024-08-19T09:46:52.772328Z"
    }
   },
   "source": [
    "## 1. 预训练模型 `all-MiniLM-L6-v2`\n",
    "\n",
    "hf: [sentence-transformers/all-MiniLM-L6-v2](https://huggingface.co/sentence-transformers/all-MiniLM-L6-v2)"
   ]
  },
  {
   "cell_type": "code",
   "execution_count": 4,
   "id": "1fd0b035-b8f1-4d0e-965a-04d126625e69",
   "metadata": {
    "execution": {
     "iopub.execute_input": "2024-08-19T15:17:12.303341Z",
     "iopub.status.busy": "2024-08-19T15:17:12.302775Z",
     "iopub.status.idle": "2024-08-19T15:17:20.101122Z",
     "shell.execute_reply": "2024-08-19T15:17:20.099984Z",
     "shell.execute_reply.started": "2024-08-19T15:17:12.303309Z"
    }
   },
   "outputs": [
    {
     "data": {
      "application/vnd.jupyter.widget-view+json": {
       "model_id": "d27becea5bb14b9dbe13e00eafa8f483",
       "version_major": 2,
       "version_minor": 0
      },
      "text/plain": [
       "Pandas Apply:   0%|          | 0/3 [00:00<?, ?it/s]"
      ]
     },
     "metadata": {},
     "output_type": "display_data"
    },
    {
     "data": {
      "text/html": [
       "<div>\n",
       "<style scoped>\n",
       "    .dataframe tbody tr th:only-of-type {\n",
       "        vertical-align: middle;\n",
       "    }\n",
       "\n",
       "    .dataframe tbody tr th {\n",
       "        vertical-align: top;\n",
       "    }\n",
       "\n",
       "    .dataframe thead th {\n",
       "        text-align: right;\n",
       "    }\n",
       "</style>\n",
       "<table border=\"1\" class=\"dataframe\">\n",
       "  <thead>\n",
       "    <tr style=\"text-align: right;\">\n",
       "      <th></th>\n",
       "      <th>text_column</th>\n",
       "      <th>embedding</th>\n",
       "    </tr>\n",
       "  </thead>\n",
       "  <tbody>\n",
       "    <tr>\n",
       "      <th>0</th>\n",
       "      <td>This is an example sentence</td>\n",
       "      <td>[0.067656875, 0.06349591, 0.0487131, 0.0793049...</td>\n",
       "    </tr>\n",
       "    <tr>\n",
       "      <th>1</th>\n",
       "      <td>Another sentence</td>\n",
       "      <td>[0.059439808, 0.052465204, 0.015320345, 0.0983...</td>\n",
       "    </tr>\n",
       "    <tr>\n",
       "      <th>2</th>\n",
       "      <td>Third sentence</td>\n",
       "      <td>[0.04853102, 0.043467816, 0.018068328, 0.07685...</td>\n",
       "    </tr>\n",
       "  </tbody>\n",
       "</table>\n",
       "</div>"
      ],
      "text/plain": [
       "                   text_column  \\\n",
       "0  This is an example sentence   \n",
       "1             Another sentence   \n",
       "2               Third sentence   \n",
       "\n",
       "                                           embedding  \n",
       "0  [0.067656875, 0.06349591, 0.0487131, 0.0793049...  \n",
       "1  [0.059439808, 0.052465204, 0.015320345, 0.0983...  \n",
       "2  [0.04853102, 0.043467816, 0.018068328, 0.07685...  "
      ]
     },
     "execution_count": 4,
     "metadata": {},
     "output_type": "execute_result"
    }
   ],
   "source": [
    "os.environ['HF_ENDPOINT'] = 'https://hf-mirror.com'\n",
    "os.environ['SENTENCE_TRANSFORMERS_HOME'] = MODEL_PATH\n",
    "\n",
    "# 加载模型\n",
    "model = SentenceTransformer(DEFAULT_MODEL)\n",
    "\n",
    "df = pd.DataFrame({'text_column': ['This is an example sentence', 'Another sentence', 'Third sentence']})\n",
    "df['embedding'] = df['text_column'].swifter.apply(lambda e: model.encode(str(e)))\n",
    "df"
   ]
  },
  {
   "cell_type": "markdown",
   "id": "aa3662ae-1310-499c-86d1-a6005c000f40",
   "metadata": {},
   "source": [
    "## 2. 自制向量引擎\n",
    "\n",
    "集成 Redis 的向量存储和 `all-MiniLM-L6-v2` 的 embedding 生成功能。\n",
    "\n",
    "features:\n",
    "\n",
    "- 支持设置索引过期时间\n",
    "- 支持通过 doc 取回对应 embedding\n",
    "- 当前 doc 在 Redis 中不存在时，先计算对应 embedding，再存入 Redis，最后取回 embedding"
   ]
  },
  {
   "cell_type": "code",
   "execution_count": 5,
   "id": "db3aaf4b-66df-46a4-9d89-518655017779",
   "metadata": {
    "execution": {
     "iopub.execute_input": "2024-08-19T15:17:20.108217Z",
     "iopub.status.busy": "2024-08-19T15:17:20.107433Z",
     "iopub.status.idle": "2024-08-19T15:17:24.903044Z",
     "shell.execute_reply": "2024-08-19T15:17:24.901867Z",
     "shell.execute_reply.started": "2024-08-19T15:17:20.108180Z"
    }
   },
   "outputs": [
    {
     "data": {
      "text/plain": [
       "True"
      ]
     },
     "execution_count": 5,
     "metadata": {},
     "output_type": "execute_result"
    }
   ],
   "source": [
    "# 实例化 VectorEngine 类\n",
    "ve = util.VectorEngine(redis_client=util.RedisHandler(),\n",
    "                       expire_time=10)\n",
    "\n",
    "# 测试与 Redis 的连通性\n",
    "ve.ping()"
   ]
  },
  {
   "cell_type": "code",
   "execution_count": 6,
   "id": "7bc981ad-5913-49c1-bd7d-40fdda7d4ac1",
   "metadata": {
    "execution": {
     "iopub.execute_input": "2024-08-19T15:17:24.905753Z",
     "iopub.status.busy": "2024-08-19T15:17:24.905129Z",
     "iopub.status.idle": "2024-08-19T15:17:24.934568Z",
     "shell.execute_reply": "2024-08-19T15:17:24.933124Z",
     "shell.execute_reply.started": "2024-08-19T15:17:24.905716Z"
    }
   },
   "outputs": [
    {
     "data": {
      "text/plain": [
       "(384, list)"
      ]
     },
     "execution_count": 6,
     "metadata": {},
     "output_type": "execute_result"
    }
   ],
   "source": [
    "# 计算 doc 的 embedding\n",
    "# 如果 Redis 中存在，直接取回；如果不存在，先计算，然后存入 Redis，最后取回\n",
    "e = ve.get_and_set(doc='This is an example sentence')\n",
    "len(e), type(e)"
   ]
  },
  {
   "cell_type": "code",
   "execution_count": 7,
   "id": "70ee78d4-d5d3-4050-986a-b40b36dfd05b",
   "metadata": {
    "execution": {
     "iopub.execute_input": "2024-08-19T15:17:24.937114Z",
     "iopub.status.busy": "2024-08-19T15:17:24.936483Z",
     "iopub.status.idle": "2024-08-19T15:17:25.046368Z",
     "shell.execute_reply": "2024-08-19T15:17:25.044929Z",
     "shell.execute_reply.started": "2024-08-19T15:17:24.937064Z"
    }
   },
   "outputs": [
    {
     "data": {
      "application/vnd.jupyter.widget-view+json": {
       "model_id": "c719a8d9d1924ef4b28b4fe8b285e9fe",
       "version_major": 2,
       "version_minor": 0
      },
      "text/plain": [
       "Pandas Apply:   0%|          | 0/3 [00:00<?, ?it/s]"
      ]
     },
     "metadata": {},
     "output_type": "display_data"
    },
    {
     "data": {
      "text/html": [
       "<div>\n",
       "<style scoped>\n",
       "    .dataframe tbody tr th:only-of-type {\n",
       "        vertical-align: middle;\n",
       "    }\n",
       "\n",
       "    .dataframe tbody tr th {\n",
       "        vertical-align: top;\n",
       "    }\n",
       "\n",
       "    .dataframe thead th {\n",
       "        text-align: right;\n",
       "    }\n",
       "</style>\n",
       "<table border=\"1\" class=\"dataframe\">\n",
       "  <thead>\n",
       "    <tr style=\"text-align: right;\">\n",
       "      <th></th>\n",
       "      <th>text_column</th>\n",
       "      <th>embedding</th>\n",
       "    </tr>\n",
       "  </thead>\n",
       "  <tbody>\n",
       "    <tr>\n",
       "      <th>0</th>\n",
       "      <td>This is an example sentence</td>\n",
       "      <td>[0.06765687465667725, 0.06349591165781021, 0.0...</td>\n",
       "    </tr>\n",
       "    <tr>\n",
       "      <th>1</th>\n",
       "      <td>Another sentence</td>\n",
       "      <td>[0.05943980813026428, 0.052465204149484634, 0....</td>\n",
       "    </tr>\n",
       "    <tr>\n",
       "      <th>2</th>\n",
       "      <td>Third sentence</td>\n",
       "      <td>[0.04853101819753647, 0.04346781596541405, 0.0...</td>\n",
       "    </tr>\n",
       "  </tbody>\n",
       "</table>\n",
       "</div>"
      ],
      "text/plain": [
       "                   text_column  \\\n",
       "0  This is an example sentence   \n",
       "1             Another sentence   \n",
       "2               Third sentence   \n",
       "\n",
       "                                           embedding  \n",
       "0  [0.06765687465667725, 0.06349591165781021, 0.0...  \n",
       "1  [0.05943980813026428, 0.052465204149484634, 0....  \n",
       "2  [0.04853101819753647, 0.04346781596541405, 0.0...  "
      ]
     },
     "execution_count": 7,
     "metadata": {},
     "output_type": "execute_result"
    }
   ],
   "source": [
    "# 计算 DataFrame 中每一列的 embedding\n",
    "df = pd.DataFrame({'text_column': ['This is an example sentence', 'Another sentence', 'Third sentence']})\n",
    "df['embedding'] = df['text_column'].swifter.apply(lambda e: np.array(ve.get_and_set(str(e))))\n",
    "df"
   ]
  },
  {
   "cell_type": "code",
   "execution_count": null,
   "id": "86b58eb5-78e6-4513-af73-26a7f20fee4f",
   "metadata": {},
   "outputs": [],
   "source": []
  }
 ],
 "metadata": {
  "kernelspec": {
   "display_name": "Python 3 (ipykernel)",
   "language": "python",
   "name": "python3"
  },
  "language_info": {
   "codemirror_mode": {
    "name": "ipython",
    "version": 3
   },
   "file_extension": ".py",
   "mimetype": "text/x-python",
   "name": "python",
   "nbconvert_exporter": "python",
   "pygments_lexer": "ipython3",
   "version": "3.10.14"
  }
 },
 "nbformat": 4,
 "nbformat_minor": 5
}
