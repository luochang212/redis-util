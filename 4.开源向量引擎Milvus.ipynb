{
 "cells": [
  {
   "cell_type": "markdown",
   "id": "e6287f3a-fccd-409c-be9e-bc249bb14d60",
   "metadata": {
    "execution": {
     "iopub.execute_input": "2024-08-15T12:19:57.277582Z",
     "iopub.status.busy": "2024-08-15T12:19:57.277189Z",
     "iopub.status.idle": "2024-08-15T12:19:57.283987Z",
     "shell.execute_reply": "2024-08-15T12:19:57.282739Z",
     "shell.execute_reply.started": "2024-08-15T12:19:57.277554Z"
    }
   },
   "source": [
    "# 开源向量引擎 Milvus\n",
    "\n",
    "[milvus](https://milvus.io/docs/quickstart.md) 是一款为机器学习设计的开源向量数据库，支持存储、查询、索引向量。Milvus 的核心功能是向量相似度搜索，它使用近似最近邻搜索算法来加速搜索过程，找到与查询向量最相似的向量。Milvus 支持多种索引类型，包括 FLAT、IVF_FLAT、IVF_SQ8、IVF_PQ、HNSW 和 ANNOY，以适应不同的查询需求和数据规模。"
   ]
  },
  {
   "cell_type": "code",
   "execution_count": 1,
   "id": "c544f494-504a-4057-96f7-5d59c0740342",
   "metadata": {
    "execution": {
     "iopub.execute_input": "2024-08-18T18:30:40.141117Z",
     "iopub.status.busy": "2024-08-18T18:30:40.140682Z",
     "iopub.status.idle": "2024-08-18T18:30:40.144038Z",
     "shell.execute_reply": "2024-08-18T18:30:40.143457Z",
     "shell.execute_reply.started": "2024-08-18T18:30:40.141089Z"
    }
   },
   "outputs": [],
   "source": [
    "# !pip install -U pymilvus\n",
    "# !pip install \"pymilvus[model]\""
   ]
  },
  {
   "cell_type": "code",
   "execution_count": 2,
   "id": "3abad5c3-b86d-43d5-b872-c6452dc080c4",
   "metadata": {
    "execution": {
     "iopub.execute_input": "2024-08-18T18:30:40.145733Z",
     "iopub.status.busy": "2024-08-18T18:30:40.145210Z",
     "iopub.status.idle": "2024-08-18T18:30:43.471876Z",
     "shell.execute_reply": "2024-08-18T18:30:43.470153Z",
     "shell.execute_reply.started": "2024-08-18T18:30:40.145708Z"
    }
   },
   "outputs": [],
   "source": [
    "import random\n",
    "from pymilvus import MilvusClient, model\n",
    "\n",
    "client = MilvusClient(\"milvus_demo.db\")"
   ]
  },
  {
   "cell_type": "code",
   "execution_count": 3,
   "id": "aad765b7-2e57-4e53-828f-f257b43e1617",
   "metadata": {
    "execution": {
     "iopub.execute_input": "2024-08-18T18:30:43.474217Z",
     "iopub.status.busy": "2024-08-18T18:30:43.473721Z",
     "iopub.status.idle": "2024-08-18T18:30:43.996481Z",
     "shell.execute_reply": "2024-08-18T18:30:43.995736Z",
     "shell.execute_reply.started": "2024-08-18T18:30:43.474188Z"
    }
   },
   "outputs": [],
   "source": [
    "if client.has_collection(collection_name=\"demo_collection\"):\n",
    "    client.drop_collection(collection_name=\"demo_collection\")\n",
    "client.create_collection(\n",
    "    collection_name=\"demo_collection\",\n",
    "    dimension=768,  # The vectors we will use in this demo has 768 dimensions\n",
    ")"
   ]
  },
  {
   "cell_type": "code",
   "execution_count": 4,
   "id": "595d5c78-4052-4c9c-8347-0a5416787fd2",
   "metadata": {
    "execution": {
     "iopub.execute_input": "2024-08-18T18:30:43.998173Z",
     "iopub.status.busy": "2024-08-18T18:30:43.997702Z",
     "iopub.status.idle": "2024-08-18T18:30:48.246011Z",
     "shell.execute_reply": "2024-08-18T18:30:48.245263Z",
     "shell.execute_reply.started": "2024-08-18T18:30:43.998154Z"
    }
   },
   "outputs": [
    {
     "name": "stderr",
     "output_type": "stream",
     "text": [
      "/Users/changluo/miniforge3/lib/python3.10/site-packages/huggingface_hub/file_download.py:1132: FutureWarning: `resume_download` is deprecated and will be removed in version 1.0.0. Downloads always resume when possible. If you want to force a new download, use `force_download=True`.\n",
      "  warnings.warn(\n"
     ]
    },
    {
     "name": "stdout",
     "output_type": "stream",
     "text": [
      "Dim: 768 (768,)\n",
      "Data has 3 entities, each with fields:  dict_keys(['id', 'vector', 'text', 'subject'])\n",
      "Vector dim: 768\n"
     ]
    }
   ],
   "source": [
    "# If connection to https://huggingface.co/ failed, uncomment the following path\n",
    "import os\n",
    "os.environ['HF_ENDPOINT'] = 'https://hf-mirror.com'\n",
    "\n",
    "# This will download a small embedding model \"paraphrase-albert-small-v2\" (~50MB).\n",
    "embedding_fn = model.DefaultEmbeddingFunction()\n",
    "\n",
    "# Text strings to search from.\n",
    "docs = [\n",
    "    \"Artificial intelligence was founded as an academic discipline in 1956.\",\n",
    "    \"Alan Turing was the first person to conduct substantial research in AI.\",\n",
    "    \"Born in Maida Vale, London, Turing was raised in southern England.\",\n",
    "]\n",
    "\n",
    "vectors = embedding_fn.encode_documents(docs)\n",
    "# The output vector has 768 dimensions, matching the collection that we just created.\n",
    "print(\"Dim:\", embedding_fn.dim, vectors[0].shape)  # Dim: 768 (768,)\n",
    "\n",
    "# Each entity has id, vector representation, raw text, and a subject label that we use\n",
    "# to demo metadata filtering later.\n",
    "data = [\n",
    "    {\"id\": i, \"vector\": vectors[i], \"text\": docs[i], \"subject\": \"history\"}\n",
    "    for i in range(len(vectors))\n",
    "]\n",
    "\n",
    "print(\"Data has\", len(data), \"entities, each with fields: \", data[0].keys())\n",
    "print(\"Vector dim:\", len(data[0][\"vector\"]))"
   ]
  },
  {
   "cell_type": "code",
   "execution_count": 5,
   "id": "91cdb646-7555-4277-903b-7ea6db13da99",
   "metadata": {
    "execution": {
     "iopub.execute_input": "2024-08-18T18:30:48.251086Z",
     "iopub.status.busy": "2024-08-18T18:30:48.250543Z",
     "iopub.status.idle": "2024-08-18T18:30:48.257222Z",
     "shell.execute_reply": "2024-08-18T18:30:48.256359Z",
     "shell.execute_reply.started": "2024-08-18T18:30:48.251064Z"
    }
   },
   "outputs": [
    {
     "name": "stdout",
     "output_type": "stream",
     "text": [
      "Data has 3 entities, each with fields:  dict_keys(['id', 'vector', 'text', 'subject'])\n",
      "Vector dim: 768\n"
     ]
    }
   ],
   "source": [
    "# Text strings to search from.\n",
    "docs = [\n",
    "    \"Artificial intelligence was founded as an academic discipline in 1956.\",\n",
    "    \"Alan Turing was the first person to conduct substantial research in AI.\",\n",
    "    \"Born in Maida Vale, London, Turing was raised in southern England.\",\n",
    "]\n",
    "# Use fake representation with random vectors (768 dimension).\n",
    "vectors = [[random.uniform(-1, 1) for _ in range(768)] for _ in docs]\n",
    "data = [\n",
    "    {\"id\": i, \"vector\": vectors[i], \"text\": docs[i], \"subject\": \"history\"}\n",
    "    for i in range(len(vectors))\n",
    "]\n",
    "\n",
    "print(\"Data has\", len(data), \"entities, each with fields: \", data[0].keys())\n",
    "print(\"Vector dim:\", len(data[0][\"vector\"]))"
   ]
  },
  {
   "cell_type": "code",
   "execution_count": 6,
   "id": "4977fba7-ee98-490e-8436-812842453f15",
   "metadata": {
    "execution": {
     "iopub.execute_input": "2024-08-18T18:30:48.261049Z",
     "iopub.status.busy": "2024-08-18T18:30:48.259403Z",
     "iopub.status.idle": "2024-08-18T18:30:48.383782Z",
     "shell.execute_reply": "2024-08-18T18:30:48.383178Z",
     "shell.execute_reply.started": "2024-08-18T18:30:48.260974Z"
    }
   },
   "outputs": [
    {
     "name": "stdout",
     "output_type": "stream",
     "text": [
      "{'insert_count': 3, 'ids': [0, 1, 2]}\n"
     ]
    }
   ],
   "source": [
    "res = client.insert(collection_name=\"demo_collection\", data=data)\n",
    "\n",
    "print(res)"
   ]
  },
  {
   "cell_type": "code",
   "execution_count": 7,
   "id": "80c6c6a8-b4f1-41ee-b534-c00d746c956c",
   "metadata": {
    "execution": {
     "iopub.execute_input": "2024-08-18T18:30:48.384999Z",
     "iopub.status.busy": "2024-08-18T18:30:48.384659Z",
     "iopub.status.idle": "2024-08-18T18:30:48.742924Z",
     "shell.execute_reply": "2024-08-18T18:30:48.742294Z",
     "shell.execute_reply.started": "2024-08-18T18:30:48.384977Z"
    }
   },
   "outputs": [
    {
     "name": "stdout",
     "output_type": "stream",
     "text": [
      "data: [\"[{'id': 1, 'distance': 0.05629841238260269, 'entity': {'text': 'Alan Turing was the first person to conduct substantial research in AI.', 'subject': 'history'}}, {'id': 2, 'distance': 0.03646022081375122, 'entity': {'text': 'Born in Maida Vale, London, Turing was raised in southern England.', 'subject': 'history'}}]\"] \n"
     ]
    }
   ],
   "source": [
    "query_vectors = embedding_fn.encode_queries([\"Who is Alan Turing?\"])\n",
    "# If you don't have the embedding function you can use a fake vector to finish the demo:\n",
    "# query_vectors = [ [ random.uniform(-1, 1) for _ in range(768) ] ]\n",
    "\n",
    "res = client.search(\n",
    "    collection_name=\"demo_collection\",  # target collection\n",
    "    data=query_vectors,  # query vectors\n",
    "    limit=2,  # number of returned entities\n",
    "    output_fields=[\"text\", \"subject\"],  # specifies fields to be returned\n",
    ")\n",
    "\n",
    "print(res)"
   ]
  },
  {
   "cell_type": "code",
   "execution_count": 8,
   "id": "44d7e56b-9a29-4247-aee4-b42717ebe405",
   "metadata": {
    "execution": {
     "iopub.execute_input": "2024-08-18T18:30:48.744741Z",
     "iopub.status.busy": "2024-08-18T18:30:48.744294Z",
     "iopub.status.idle": "2024-08-18T18:30:49.782810Z",
     "shell.execute_reply": "2024-08-18T18:30:49.781061Z",
     "shell.execute_reply.started": "2024-08-18T18:30:48.744717Z"
    }
   },
   "outputs": [
    {
     "name": "stdout",
     "output_type": "stream",
     "text": [
      "data: [\"[{'id': 4, 'distance': 0.27030569314956665, 'entity': {'text': 'Computational synthesis with AI algorithms predicts molecular properties.', 'subject': 'biology'}}, {'id': 3, 'distance': 0.16425888240337372, 'entity': {'text': 'Machine learning has been used for drug design.', 'subject': 'biology'}}]\"] \n"
     ]
    }
   ],
   "source": [
    "# Insert more docs in another subject.\n",
    "docs = [\n",
    "    \"Machine learning has been used for drug design.\",\n",
    "    \"Computational synthesis with AI algorithms predicts molecular properties.\",\n",
    "    \"DDR1 is involved in cancers and fibrosis.\",\n",
    "]\n",
    "vectors = embedding_fn.encode_documents(docs)\n",
    "data = [\n",
    "    {\"id\": 3 + i, \"vector\": vectors[i], \"text\": docs[i], \"subject\": \"biology\"}\n",
    "    for i in range(len(vectors))\n",
    "]\n",
    "\n",
    "client.insert(collection_name=\"demo_collection\", data=data)\n",
    "\n",
    "# This will exclude any text in \"history\" subject despite close to the query vector.\n",
    "res = client.search(\n",
    "    collection_name=\"demo_collection\",\n",
    "    data=embedding_fn.encode_queries([\"tell me AI related information\"]),\n",
    "    filter=\"subject == 'biology'\",\n",
    "    limit=2,\n",
    "    output_fields=[\"text\", \"subject\"],\n",
    ")\n",
    "\n",
    "print(res)"
   ]
  },
  {
   "cell_type": "code",
   "execution_count": 9,
   "id": "88c626b8-37cd-4b8d-a16e-94d077dc5eef",
   "metadata": {
    "execution": {
     "iopub.execute_input": "2024-08-18T18:30:49.785298Z",
     "iopub.status.busy": "2024-08-18T18:30:49.784351Z",
     "iopub.status.idle": "2024-08-18T18:30:49.794152Z",
     "shell.execute_reply": "2024-08-18T18:30:49.792378Z",
     "shell.execute_reply.started": "2024-08-18T18:30:49.785260Z"
    }
   },
   "outputs": [],
   "source": [
    "res = client.query(\n",
    "    collection_name=\"demo_collection\",\n",
    "    filter=\"subject == 'history'\",\n",
    "    output_fields=[\"text\", \"subject\"],\n",
    ")"
   ]
  },
  {
   "cell_type": "code",
   "execution_count": 10,
   "id": "b4622302-6b59-41de-9daf-c5af3e95c793",
   "metadata": {
    "execution": {
     "iopub.execute_input": "2024-08-18T18:30:49.795879Z",
     "iopub.status.busy": "2024-08-18T18:30:49.795441Z",
     "iopub.status.idle": "2024-08-18T18:30:49.810475Z",
     "shell.execute_reply": "2024-08-18T18:30:49.809333Z",
     "shell.execute_reply.started": "2024-08-18T18:30:49.795841Z"
    }
   },
   "outputs": [],
   "source": [
    "res = client.query(\n",
    "    collection_name=\"demo_collection\",\n",
    "    ids=[0, 2],\n",
    "    output_fields=[\"vector\", \"text\", \"subject\"],\n",
    ")"
   ]
  },
  {
   "cell_type": "code",
   "execution_count": 11,
   "id": "1a7df107-87b6-4b7b-b947-908856464bb2",
   "metadata": {
    "execution": {
     "iopub.execute_input": "2024-08-18T18:30:49.812691Z",
     "iopub.status.busy": "2024-08-18T18:30:49.812034Z",
     "iopub.status.idle": "2024-08-18T18:30:49.829463Z",
     "shell.execute_reply": "2024-08-18T18:30:49.826872Z",
     "shell.execute_reply.started": "2024-08-18T18:30:49.812653Z"
    }
   },
   "outputs": [
    {
     "name": "stdout",
     "output_type": "stream",
     "text": [
      "[0, 2]\n",
      "[3, 4, 5]\n"
     ]
    }
   ],
   "source": [
    "# Delete entities by primary key\n",
    "res = client.delete(collection_name=\"demo_collection\", ids=[0, 2])\n",
    "\n",
    "print(res)\n",
    "\n",
    "# Delete entities by a filter expression\n",
    "res = client.delete(\n",
    "    collection_name=\"demo_collection\",\n",
    "    filter=\"subject == 'biology'\",\n",
    ")\n",
    "\n",
    "print(res)"
   ]
  },
  {
   "cell_type": "code",
   "execution_count": 12,
   "id": "c98e25ca-cae2-43e0-9afb-0e2d59209ed8",
   "metadata": {
    "execution": {
     "iopub.execute_input": "2024-08-18T18:30:49.831445Z",
     "iopub.status.busy": "2024-08-18T18:30:49.830924Z",
     "iopub.status.idle": "2024-08-18T18:30:49.844534Z",
     "shell.execute_reply": "2024-08-18T18:30:49.842487Z",
     "shell.execute_reply.started": "2024-08-18T18:30:49.831408Z"
    }
   },
   "outputs": [],
   "source": [
    "from pymilvus import MilvusClient\n",
    "\n",
    "client = MilvusClient(\"milvus_demo.db\")"
   ]
  },
  {
   "cell_type": "code",
   "execution_count": 13,
   "id": "9f87091c-34d8-4a3d-be87-6def98b2d042",
   "metadata": {
    "execution": {
     "iopub.execute_input": "2024-08-18T18:30:49.847114Z",
     "iopub.status.busy": "2024-08-18T18:30:49.846249Z",
     "iopub.status.idle": "2024-08-18T18:30:49.866721Z",
     "shell.execute_reply": "2024-08-18T18:30:49.865273Z",
     "shell.execute_reply.started": "2024-08-18T18:30:49.847072Z"
    }
   },
   "outputs": [],
   "source": [
    "# Drop collection\n",
    "client.drop_collection(collection_name=\"demo_collection\")"
   ]
  },
  {
   "cell_type": "code",
   "execution_count": null,
   "id": "405c09d6-f8cf-4cf0-9a34-41ecf5ca54ff",
   "metadata": {},
   "outputs": [],
   "source": []
  }
 ],
 "metadata": {
  "kernelspec": {
   "display_name": "Python 3 (ipykernel)",
   "language": "python",
   "name": "python3"
  },
  "language_info": {
   "codemirror_mode": {
    "name": "ipython",
    "version": 3
   },
   "file_extension": ".py",
   "mimetype": "text/x-python",
   "name": "python",
   "nbconvert_exporter": "python",
   "pygments_lexer": "ipython3",
   "version": "3.10.14"
  }
 },
 "nbformat": 4,
 "nbformat_minor": 5
}
