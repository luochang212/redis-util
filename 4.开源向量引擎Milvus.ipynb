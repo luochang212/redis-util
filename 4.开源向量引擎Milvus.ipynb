{
 "cells": [
  {
   "cell_type": "markdown",
   "id": "e6287f3a-fccd-409c-be9e-bc249bb14d60",
   "metadata": {
    "execution": {
     "iopub.execute_input": "2024-08-15T12:19:57.277582Z",
     "iopub.status.busy": "2024-08-15T12:19:57.277189Z",
     "iopub.status.idle": "2024-08-15T12:19:57.283987Z",
     "shell.execute_reply": "2024-08-15T12:19:57.282739Z",
     "shell.execute_reply.started": "2024-08-15T12:19:57.277554Z"
    }
   },
   "source": [
    "# 开源向量引擎 Milvus\n",
    "\n",
    "[milvus](https://milvus.io/docs/quickstart.md)"
   ]
  },
  {
   "cell_type": "code",
   "execution_count": null,
   "id": "c544f494-504a-4057-96f7-5d59c0740342",
   "metadata": {},
   "outputs": [],
   "source": []
  }
 ],
 "metadata": {
  "kernelspec": {
   "display_name": "Python 3 (ipykernel)",
   "language": "python",
   "name": "python3"
  },
  "language_info": {
   "codemirror_mode": {
    "name": "ipython",
    "version": 3
   },
   "file_extension": ".py",
   "mimetype": "text/x-python",
   "name": "python",
   "nbconvert_exporter": "python",
   "pygments_lexer": "ipython3",
   "version": "3.10.14"
  }
 },
 "nbformat": 4,
 "nbformat_minor": 5
}
