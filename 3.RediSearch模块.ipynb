{
 "cells": [
  {
   "cell_type": "markdown",
   "id": "f35b220f-7fe3-4dac-8e03-1c97c93fecfb",
   "metadata": {
    "execution": {
     "iopub.execute_input": "2024-08-15T12:24:31.191857Z",
     "iopub.status.busy": "2024-08-15T12:24:31.191553Z",
     "iopub.status.idle": "2024-08-15T12:24:31.194388Z",
     "shell.execute_reply": "2024-08-15T12:24:31.193862Z",
     "shell.execute_reply.started": "2024-08-15T12:24:31.191834Z"
    }
   },
   "source": [
    "# RediSearch 模块\n",
    "\n",
    "- GitHub: [RediSearch](https://github.com/RediSearch/RediSearch)\n",
    "- Docs: [search-and-query](https://redis.io/docs/latest/develop/interact/search-and-query/)"
   ]
  },
  {
   "cell_type": "code",
   "execution_count": null,
   "id": "0c899b01-cf82-41ec-8aa0-f1b5b70a2e82",
   "metadata": {},
   "outputs": [],
   "source": []
  }
 ],
 "metadata": {
  "kernelspec": {
   "display_name": "Python 3 (ipykernel)",
   "language": "python",
   "name": "python3"
  },
  "language_info": {
   "codemirror_mode": {
    "name": "ipython",
    "version": 3
   },
   "file_extension": ".py",
   "mimetype": "text/x-python",
   "name": "python",
   "nbconvert_exporter": "python",
   "pygments_lexer": "ipython3",
   "version": "3.10.14"
  }
 },
 "nbformat": 4,
 "nbformat_minor": 5
}
