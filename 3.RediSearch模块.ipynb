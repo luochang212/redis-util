{
 "cells": [
  {
   "cell_type": "markdown",
   "id": "f35b220f-7fe3-4dac-8e03-1c97c93fecfb",
   "metadata": {
    "execution": {
     "iopub.execute_input": "2024-08-15T12:24:31.191857Z",
     "iopub.status.busy": "2024-08-15T12:24:31.191553Z",
     "iopub.status.idle": "2024-08-15T12:24:31.194388Z",
     "shell.execute_reply": "2024-08-15T12:24:31.193862Z",
     "shell.execute_reply.started": "2024-08-15T12:24:31.191834Z"
    }
   },
   "source": [
    "# RediSearch 模块\n",
    "\n",
    "RediSearch:\n",
    "\n",
    "- GitHub: [RediSearch](https://github.com/RediSearch/RediSearch)\n",
    "- Docs: [search-and-query](https://redis.io/docs/latest/develop/interact/search-and-query/)\n",
    "\n",
    "Redis Python client:\n",
    "\n",
    "- GitHub: [redisearch-py](https://github.com/RediSearch/redisearch-py)\n",
    "- Docs: [python-client](https://redis.io/docs/latest/develop/connect/clients/python/)"
   ]
  },
  {
   "cell_type": "code",
   "execution_count": 1,
   "id": "10a4419f-f518-4a92-bd38-b1dbe6a438a8",
   "metadata": {
    "execution": {
     "iopub.execute_input": "2024-08-18T18:10:50.883971Z",
     "iopub.status.busy": "2024-08-18T18:10:50.883541Z",
     "iopub.status.idle": "2024-08-18T18:10:52.241426Z",
     "shell.execute_reply": "2024-08-18T18:10:52.240887Z",
     "shell.execute_reply.started": "2024-08-18T18:10:50.883952Z"
    }
   },
   "outputs": [],
   "source": [
    "import numpy as np\n",
    "import redis\n",
    "\n",
    "import util"
   ]
  },
  {
   "cell_type": "markdown",
   "id": "9e6a8d4a-23ea-41df-b134-062f810faa2c",
   "metadata": {
    "execution": {
     "iopub.execute_input": "2024-08-17T12:39:20.643978Z",
     "iopub.status.busy": "2024-08-17T12:39:20.634706Z",
     "iopub.status.idle": "2024-08-17T12:39:20.692305Z",
     "shell.execute_reply": "2024-08-17T12:39:20.688077Z",
     "shell.execute_reply.started": "2024-08-17T12:39:20.643894Z"
    }
   },
   "source": [
    "## 1. 安装 Docker 镜像\n",
    "\n",
    "官方 Docker：[redis-stack-server](https://hub.docker.com/r/redis/redis-stack-server/)\n",
    "\n",
    "创建一个本地容器：\n",
    "\n",
    "```\n",
    "docker pull redis/redis-stack-server\n",
    "```\n",
    "\n",
    "运行容器：\n",
    "\n",
    "```\n",
    "docker run -d --name redis-stack -p 6379:6379 -e REDIS_ARGS=\"--requirepass my-password\" redis/redis-stack-server:latest\n",
    "```\n",
    "\n",
    "在容器中与 Redis 交互：\n",
    "\n",
    "```\n",
    "# 打开命令行交互\n",
    "docker exec -it redis-stack sh\n",
    "\n",
    "# 打开 Redis 命令行交互\n",
    "docker exec -it redis-stack redis-cli\n",
    "```"
   ]
  },
  {
   "cell_type": "code",
   "execution_count": 2,
   "id": "e5411878-57c4-40ed-8d1f-04e5690b56c0",
   "metadata": {
    "execution": {
     "iopub.execute_input": "2024-08-18T18:10:52.242860Z",
     "iopub.status.busy": "2024-08-18T18:10:52.242452Z",
     "iopub.status.idle": "2024-08-18T18:10:52.255898Z",
     "shell.execute_reply": "2024-08-18T18:10:52.254922Z",
     "shell.execute_reply.started": "2024-08-18T18:10:52.242840Z"
    }
   },
   "outputs": [
    {
     "data": {
      "text/plain": [
       "True"
      ]
     },
     "execution_count": 2,
     "metadata": {},
     "output_type": "execute_result"
    }
   ],
   "source": [
    "r = redis.Redis(host='localhost', port=6379, password=\"my-password\")\n",
    "\n",
    "# 确认连通性\n",
    "r.ping()"
   ]
  },
  {
   "cell_type": "code",
   "execution_count": 3,
   "id": "bb9dffd0-b602-41c7-9140-564260a611fb",
   "metadata": {
    "execution": {
     "iopub.execute_input": "2024-08-18T18:10:52.257761Z",
     "iopub.status.busy": "2024-08-18T18:10:52.257235Z",
     "iopub.status.idle": "2024-08-18T18:10:52.266231Z",
     "shell.execute_reply": "2024-08-18T18:10:52.265345Z",
     "shell.execute_reply.started": "2024-08-18T18:10:52.257700Z"
    }
   },
   "outputs": [
    {
     "data": {
      "text/plain": [
       "b'b'"
      ]
     },
     "execution_count": 3,
     "metadata": {},
     "output_type": "execute_result"
    }
   ],
   "source": [
    "# 简单存取\n",
    "r.set(\"a\", \"b\")\n",
    "r.get(\"a\")"
   ]
  },
  {
   "cell_type": "markdown",
   "id": "9fb2a7f1-2c27-4217-a879-c7f62d50ff3a",
   "metadata": {},
   "source": [
    "## 2. 存取向量"
   ]
  },
  {
   "cell_type": "code",
   "execution_count": 4,
   "id": "79d0a38f-f086-4b0a-9a6f-656ec09993c2",
   "metadata": {
    "execution": {
     "iopub.execute_input": "2024-08-18T18:10:52.268086Z",
     "iopub.status.busy": "2024-08-18T18:10:52.267678Z",
     "iopub.status.idle": "2024-08-18T18:10:52.276424Z",
     "shell.execute_reply": "2024-08-18T18:10:52.275337Z",
     "shell.execute_reply.started": "2024-08-18T18:10:52.268066Z"
    }
   },
   "outputs": [
    {
     "data": {
      "text/plain": [
       "b'OK'"
      ]
     },
     "execution_count": 4,
     "metadata": {},
     "output_type": "execute_result"
    }
   ],
   "source": [
    "# 创建索引\n",
    "def create_index(index_name, text_field_name, vector_field_name, dtype='FLOAT32', dim=128, metric='L2'):\n",
    "    cmd = [\n",
    "        'FT.CREATE', f'{index_name}', 'ON', 'HASH', 'PREFIX', '1', 'vec:',\n",
    "        'SCHEMA',\n",
    "        f'{text_field_name}', 'TEXT',\n",
    "        f'{vector_field_name}', 'VECTOR', 'FLAT', '6', 'TYPE', f'{dtype}', 'DIM', f'{dim}', 'DISTANCE_METRIC', f'{metric}'\n",
    "    ]\n",
    "    return r.execute_command(*cmd)\n",
    "\n",
    "create_index(index_name='my_index', text_field_name='my_text', vector_field_name='my_vector')"
   ]
  },
  {
   "cell_type": "code",
   "execution_count": 5,
   "id": "d7669768-18e8-408e-9d7f-92162d2b5c3a",
   "metadata": {
    "execution": {
     "iopub.execute_input": "2024-08-18T18:10:52.283859Z",
     "iopub.status.busy": "2024-08-18T18:10:52.283355Z",
     "iopub.status.idle": "2024-08-18T18:10:52.287628Z",
     "shell.execute_reply": "2024-08-18T18:10:52.286849Z",
     "shell.execute_reply.started": "2024-08-18T18:10:52.283839Z"
    }
   },
   "outputs": [],
   "source": [
    "# 删除索引\n",
    "def delete_index(index_name):\n",
    "    return r.execute_command(f'FT.DROPINDEX {index_name} [DD]')\n",
    "\n",
    "# delete_index(index_name='my_index')"
   ]
  },
  {
   "cell_type": "code",
   "execution_count": 6,
   "id": "d9759667-80f8-4219-a25f-68433c736be0",
   "metadata": {
    "execution": {
     "iopub.execute_input": "2024-08-18T18:10:52.289412Z",
     "iopub.status.busy": "2024-08-18T18:10:52.288861Z",
     "iopub.status.idle": "2024-08-18T18:10:52.296025Z",
     "shell.execute_reply": "2024-08-18T18:10:52.294917Z",
     "shell.execute_reply.started": "2024-08-18T18:10:52.289390Z"
    }
   },
   "outputs": [],
   "source": [
    "# 生成向量\n",
    "vec1 = np.random.rand(128).astype(np.float32)\n",
    "vec2 = np.random.rand(128).astype(np.float32)\n",
    "\n",
    "vec1_binary = vec1.tobytes()\n",
    "vec2_binary = vec2.tobytes()\n",
    "\n",
    "data1 = {'my_text': 'text_1', 'my_vector': vec1_binary}\n",
    "data2 = {'my_text': 'text_2', 'my_vector': vec2_binary}"
   ]
  },
  {
   "cell_type": "code",
   "execution_count": 7,
   "id": "a6434f24-7b55-4cac-8391-f5c529ed3fa0",
   "metadata": {
    "execution": {
     "iopub.execute_input": "2024-08-18T18:10:52.297740Z",
     "iopub.status.busy": "2024-08-18T18:10:52.297335Z",
     "iopub.status.idle": "2024-08-18T18:10:52.305719Z",
     "shell.execute_reply": "2024-08-18T18:10:52.304859Z",
     "shell.execute_reply.started": "2024-08-18T18:10:52.297706Z"
    }
   },
   "outputs": [
    {
     "data": {
      "text/plain": [
       "0"
      ]
     },
     "execution_count": 7,
     "metadata": {},
     "output_type": "execute_result"
    }
   ],
   "source": [
    "def insert_index(key: str, data: dict):\n",
    "    return r.hset(f'vec:{key}', mapping=data)\n",
    "\n",
    "def get_data(key: str):\n",
    "    return r.execute_command('HGETALL', f'vec:{key}')\n",
    "\n",
    "def delete_data(key: str):\n",
    "    return r.delete(f'vec:{key}')\n",
    "\n",
    "# 插入数据\n",
    "insert_index(key='data1', data=data1)\n",
    "insert_index(key='data2', data=data2)"
   ]
  },
  {
   "cell_type": "code",
   "execution_count": 8,
   "id": "1416866f-eb37-47fa-be13-e9256b8b16f3",
   "metadata": {
    "execution": {
     "iopub.execute_input": "2024-08-18T18:10:52.307437Z",
     "iopub.status.busy": "2024-08-18T18:10:52.307035Z",
     "iopub.status.idle": "2024-08-18T18:10:52.315901Z",
     "shell.execute_reply": "2024-08-18T18:10:52.315100Z",
     "shell.execute_reply.started": "2024-08-18T18:10:52.307416Z"
    }
   },
   "outputs": [
    {
     "data": {
      "text/plain": [
       "{b'my_vector': b'\\x9a\\x1du>\\x90\\xfb8?<\\x05\\x1f=\\xd0\\xf8\\x11>0\\xa6\\xb6=K\\xde\\x80>\\xde\\xd5\\xc9>tf\\x85>\\xdd\\x1e\\x0b?\\x91\\x8a\\xf4>\\xbc\\x96\\\\?\\t\\xbc\\xa0>5`+?\\xe0\\xd6\\x07?K\\x19\\x00?P\\xfd\\x98>r)\\x08?\\x00?\\xd3</\\xe9\\xcb>f\\xfb\\x8c>o\\x89:>\\nIr?\\xd5\\xdc\\x1d?\\xc5\\xa1y>\\xe1\\xbb\\x0e>\\xb4\\x15z?m\\x93A=g\\x98\\xb6>\\xab\\xa9\\xfb<6KS>\\xb9\\x1av>\\x9d\\x88b?\\xf1\\xad\\x98=*\\xbc\\x17?\\xd3\\xff\\x06?\\xa6]4>\\x90\\xb2\\x1e?\\xa8\\x87\\xb5==T\\xd1>\\xf2cO?\\xf6\\xcb\\x9b>\\xd7\\x8b\"?<\\xb25=N\\xc3#?_#^?w\\xdbr?C9\\xf5>-d\\x87>\\x1b{g?\\xe20\\xc2>N\\x9d\\x91=\\x13\\x89X>\\rJ0?\\x96\\x07\\x15?\\x9cy\\x88>\\x99\\xd8;?\\x8a\\xa4\\xa3<E#e>\\xa6\\xc7o?\\xc4\\xc7N?8\\x00D?\\x17\\x18\\n?\\x85\\xee\\x1d?\\xea\\xc1y?Z#\\x12?\\xa8\\x10<>\\x0b\\x1d\\x07?\\x94B\\xdc>\\x0b\\n\\xb8>\\x19\\xc0\\x91>\\xc8y??\"^\\xcd>\\x95\\xfc*?0\\xa5d>i$T?t\\x17\\xce>\\x93\\xd8D?\\xf7\\'\\xfd<\\xc5t\\x1c?Q\\xb2\\x93=]\\x17\\xa6=\\x95+J?\\x9e7$?\\xeb\\xe0\\xa2<_7g?o\\xfb{?\\xd4\\xf5\\xd2<\\xa3\\x97\\x0b?\\x83\\xcd.?_\\xa8O?\\x84~x>5\\xbf\\xca>\\x88~\\xaf>*\\x13R?\\x91=\\xef>\\xd27I?Q}\\x90>\\xae>\\xe4>\\xaf\\xba\\x10?\\xb0\\x99@?k@o>3X\\xdf>@\\xc8\\x1d?\\xc09\\xba=\\xf5\\xbc\\xc5>\\xab\\x05r>\\xf1\\x10@?\\xef\\tA=\\xce\\xeb\\x0c>\\xdb\\xcbh>5\\x97\\x9e>X\\x0e\\x1d>\\xc18\\x08?c\\xbe\\xe3>\\xe2\\xbb-?A$\\x03?\\x93#&?\\xf9;v?\\x15\\xf8e?qW\\xf9=\\xa8\\x15\\x87=Rv\\x1d?o\\xa6x>\\x82:\\xef>\\x9e~\\x91>?\\xddH?]UX?\\xd9\\xa5C?',\n",
       " b'my_text': b'text_1'}"
      ]
     },
     "execution_count": 8,
     "metadata": {},
     "output_type": "execute_result"
    }
   ],
   "source": [
    "# 通过 key 获取数据\n",
    "get_data('data1')"
   ]
  },
  {
   "cell_type": "code",
   "execution_count": 9,
   "id": "75af80ff-dc1f-4efe-816f-755f8ac8d3c7",
   "metadata": {
    "execution": {
     "iopub.execute_input": "2024-08-18T18:10:52.317925Z",
     "iopub.status.busy": "2024-08-18T18:10:52.317559Z",
     "iopub.status.idle": "2024-08-18T18:10:52.321325Z",
     "shell.execute_reply": "2024-08-18T18:10:52.320596Z",
     "shell.execute_reply.started": "2024-08-18T18:10:52.317904Z"
    }
   },
   "outputs": [],
   "source": [
    "# 通过 key 删除数据\n",
    "# delete_data('data1')"
   ]
  },
  {
   "cell_type": "markdown",
   "id": "a4e53b29-2dbc-4c42-bc27-437d480ac3bf",
   "metadata": {},
   "source": [
    "## 3. 查找最近邻向量"
   ]
  },
  {
   "cell_type": "code",
   "execution_count": 10,
   "id": "969bb280-981f-4237-9634-2d3c1a186684",
   "metadata": {
    "execution": {
     "iopub.execute_input": "2024-08-18T18:10:52.323403Z",
     "iopub.status.busy": "2024-08-18T18:10:52.322616Z",
     "iopub.status.idle": "2024-08-18T18:10:52.334207Z",
     "shell.execute_reply": "2024-08-18T18:10:52.333154Z",
     "shell.execute_reply.started": "2024-08-18T18:10:52.323341Z"
    }
   },
   "outputs": [
    {
     "data": {
      "text/plain": [
       "[2,\n",
       " b'vec:data1',\n",
       " [b'__my_vector_score',\n",
       "  b'20.932970047',\n",
       "  b'my_text',\n",
       "  b'text_1',\n",
       "  b'my_vector',\n",
       "  b'\\x9a\\x1du>\\x90\\xfb8?<\\x05\\x1f=\\xd0\\xf8\\x11>0\\xa6\\xb6=K\\xde\\x80>\\xde\\xd5\\xc9>tf\\x85>\\xdd\\x1e\\x0b?\\x91\\x8a\\xf4>\\xbc\\x96\\\\?\\t\\xbc\\xa0>5`+?\\xe0\\xd6\\x07?K\\x19\\x00?P\\xfd\\x98>r)\\x08?\\x00?\\xd3</\\xe9\\xcb>f\\xfb\\x8c>o\\x89:>\\nIr?\\xd5\\xdc\\x1d?\\xc5\\xa1y>\\xe1\\xbb\\x0e>\\xb4\\x15z?m\\x93A=g\\x98\\xb6>\\xab\\xa9\\xfb<6KS>\\xb9\\x1av>\\x9d\\x88b?\\xf1\\xad\\x98=*\\xbc\\x17?\\xd3\\xff\\x06?\\xa6]4>\\x90\\xb2\\x1e?\\xa8\\x87\\xb5==T\\xd1>\\xf2cO?\\xf6\\xcb\\x9b>\\xd7\\x8b\"?<\\xb25=N\\xc3#?_#^?w\\xdbr?C9\\xf5>-d\\x87>\\x1b{g?\\xe20\\xc2>N\\x9d\\x91=\\x13\\x89X>\\rJ0?\\x96\\x07\\x15?\\x9cy\\x88>\\x99\\xd8;?\\x8a\\xa4\\xa3<E#e>\\xa6\\xc7o?\\xc4\\xc7N?8\\x00D?\\x17\\x18\\n?\\x85\\xee\\x1d?\\xea\\xc1y?Z#\\x12?\\xa8\\x10<>\\x0b\\x1d\\x07?\\x94B\\xdc>\\x0b\\n\\xb8>\\x19\\xc0\\x91>\\xc8y??\"^\\xcd>\\x95\\xfc*?0\\xa5d>i$T?t\\x17\\xce>\\x93\\xd8D?\\xf7\\'\\xfd<\\xc5t\\x1c?Q\\xb2\\x93=]\\x17\\xa6=\\x95+J?\\x9e7$?\\xeb\\xe0\\xa2<_7g?o\\xfb{?\\xd4\\xf5\\xd2<\\xa3\\x97\\x0b?\\x83\\xcd.?_\\xa8O?\\x84~x>5\\xbf\\xca>\\x88~\\xaf>*\\x13R?\\x91=\\xef>\\xd27I?Q}\\x90>\\xae>\\xe4>\\xaf\\xba\\x10?\\xb0\\x99@?k@o>3X\\xdf>@\\xc8\\x1d?\\xc09\\xba=\\xf5\\xbc\\xc5>\\xab\\x05r>\\xf1\\x10@?\\xef\\tA=\\xce\\xeb\\x0c>\\xdb\\xcbh>5\\x97\\x9e>X\\x0e\\x1d>\\xc18\\x08?c\\xbe\\xe3>\\xe2\\xbb-?A$\\x03?\\x93#&?\\xf9;v?\\x15\\xf8e?qW\\xf9=\\xa8\\x15\\x87=Rv\\x1d?o\\xa6x>\\x82:\\xef>\\x9e~\\x91>?\\xddH?]UX?\\xd9\\xa5C?'],\n",
       " b'vec:data2',\n",
       " [b'__my_vector_score',\n",
       "  b'26.0434322357',\n",
       "  b'my_text',\n",
       "  b'text_2',\n",
       "  b'my_vector',\n",
       "  b\"\\tN_<\\x97\\xbf\\xb1>d\\xfc\\x07?|=t?\\x87\\xfb{?D\\xf8\\x87>D|\\x05=%\\x13B?\\x08\\xba\\xa4>b\\x12w?Zy'?\\xf3\\xfb\\r>z\\x00!>b\\xc3\\xae<\\xf0\\xbe7?\\x85bx?\\xd7\\x16v?<\\x04\\n?\\x11\\x898?\\xa3t5?\\xac\\xe2\\x8c=\\xad\\xc6\\x89>\\x86\\x06\\xe2>\\x9f.\\x16?Z\\xf4\\x1e?!\\xa5\\xa3>\\xae\\xee\\x9a>\\x94\\x1d!?\\xb4rQ?\\xb8\\x15\\x1f>\\xd9\\xe2\\x1e?\\x19aC?\\xceL}?\\xe5\\xe5c?\\xf1\\xcb\\xc5>)\\x13\\x94=a\\xc5W>\\xbc\\xbbf?\\xa2\\xd8\\xd7>+Tg>\\xa3\\x8eC?\\x05_l>\\xea\\xc5\\x00?\\x00\\x80:>\\xd8\\xd0C?^Gd>\\xa0\\x8b\\x98>\\x1a-\\x01?r\\x90|?Z\\x81\\xab=n\\xb4X?\\xb3\\xacb?\\xda\\x89\\xf9=\\xb2\\xc9 ?>\\x1c\\x02?\\xc0=\\xc9>\\xa8TI>\\x90\\x12\\xf7>\\x81\\xdd\\xb3<@\\x999?\\xa3\\xf4\\x9b>a\\xca\\xdc>\\xfc\\xf0\\xb3>\\x0e7<>Kv|>U\\xec\\xc2>vg~?\\xc2\\xdd\\xf7>D\\x05\\xc8>\\xfe\\x88,?\\x91\\xf8c=P\\xd7S?\\x7f\\x82\\xc4>\\xf4c\\xb3>\\\\\\x9e@>z\\x8a\\x81<whe?\\xf3\\tn?\\xc7H\\xde=\\tz~?>\\xff1>S,|?G-\\xa0>\\xe2\\x92 ?\\x98\\xba\\xcb=\\x1353??E\\xc4>\\x08@S?\\xfeHl=\\x1cc\\x02?\\xc1oR?\\x1c\\xdd\\xfd>\\xf9\\x068?{\\xa5N?\\x90\\xe44>\\xfb\\xe4Q?8\\xa1B?r\\x1aC?n\\xab^?\\xf0>+?\\xec\\x98_?3R\\xb4<\\xbdl\\x10>\\r\\xb4\\r>%BP?I\\xab??Eb3?\\xd2JP>\\x11\\x93\\xf1>:4f?\\x9636=y\\xd5\\xde>\\xea\\xee\\x11?7k.?\\xb8&N?\\x85\\\\=?l\\xc6,?\\x17j\\x1c=\\xf7\\xa1\\xde>\\xd7\\xe9}>R\\xd28?\\xb1\\x1d+?\\x04xa=7\\x8c\\xcf>\\x06\\x8a\\xd9=\\xdd_d?7[\\xc9>\\xec!2?\"]]"
      ]
     },
     "execution_count": 10,
     "metadata": {},
     "output_type": "execute_result"
    }
   ],
   "source": [
    "# 查找最近邻向量\n",
    "def search_vector(query_vec, index_name, vector_field_name, num_return_vec):\n",
    "    query_vec_binary = query_vec.tobytes()\n",
    "    cmd = [\n",
    "        'FT.SEARCH', index_name, f'*=>[KNN {num_return_vec} @{vector_field_name} $query_vec]', \n",
    "        'PARAMS', '2', 'query_vec', query_vec_binary, 'DIALECT', '2'\n",
    "    ]\n",
    "    return r.execute_command(*cmd)\n",
    "\n",
    "query_vec = np.random.rand(128).astype(np.float32)\n",
    "result = search_vector(query_vec, index_name='my_index', vector_field_name='my_vector', num_return_vec=2)\n",
    "result"
   ]
  },
  {
   "cell_type": "code",
   "execution_count": 11,
   "id": "0555aaa1-b5e7-4376-aace-cf66d7c254a3",
   "metadata": {
    "execution": {
     "iopub.execute_input": "2024-08-18T18:10:52.335862Z",
     "iopub.status.busy": "2024-08-18T18:10:52.335591Z",
     "iopub.status.idle": "2024-08-18T18:10:52.340983Z",
     "shell.execute_reply": "2024-08-18T18:10:52.340272Z",
     "shell.execute_reply.started": "2024-08-18T18:10:52.335837Z"
    }
   },
   "outputs": [
    {
     "name": "stdout",
     "output_type": "stream",
     "text": [
      "Key: b'vec:data1'\n",
      "Distance: b'20.932970047'\n",
      "Key: b'vec:data2'\n",
      "Distance: b'26.0434322357'\n"
     ]
    }
   ],
   "source": [
    "for i in range(1, len(result), 2):\n",
    "    print(f\"Key: {result[i]}\")\n",
    "    print(f\"Distance: {result[i+1][1]}\")"
   ]
  },
  {
   "cell_type": "code",
   "execution_count": null,
   "id": "3b227a13-6d14-40f9-a170-6466a0f955e1",
   "metadata": {},
   "outputs": [],
   "source": []
  }
 ],
 "metadata": {
  "kernelspec": {
   "display_name": "Python 3 (ipykernel)",
   "language": "python",
   "name": "python3"
  },
  "language_info": {
   "codemirror_mode": {
    "name": "ipython",
    "version": 3
   },
   "file_extension": ".py",
   "mimetype": "text/x-python",
   "name": "python",
   "nbconvert_exporter": "python",
   "pygments_lexer": "ipython3",
   "version": "3.10.14"
  }
 },
 "nbformat": 4,
 "nbformat_minor": 5
}
