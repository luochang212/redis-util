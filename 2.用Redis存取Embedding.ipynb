{
 "cells": [
  {
   "cell_type": "markdown",
   "id": "d4d23cf3-ad0c-4726-8a94-95242ce0583a",
   "metadata": {},
   "source": [
    "# 用 Redis 存取 Embedding"
   ]
  },
  {
   "cell_type": "code",
   "execution_count": 1,
   "id": "5d19fe92-779b-4e1c-b5db-e77c6bf0b251",
   "metadata": {
    "execution": {
     "iopub.execute_input": "2024-08-15T12:11:32.575938Z",
     "iopub.status.busy": "2024-08-15T12:11:32.575526Z",
     "iopub.status.idle": "2024-08-15T12:11:32.580042Z",
     "shell.execute_reply": "2024-08-15T12:11:32.579240Z",
     "shell.execute_reply.started": "2024-08-15T12:11:32.575911Z"
    }
   },
   "outputs": [],
   "source": [
    "# !pip install gensim\n",
    "# !pip install nltk\n",
    "# !pip uninstall scipy -y\n",
    "# !pip install scipy==1.12.0\n",
    "# !pip install jieba"
   ]
  },
  {
   "cell_type": "code",
   "execution_count": 2,
   "id": "87bdf19b-6fcb-4ee8-8901-5d940c0e555d",
   "metadata": {
    "execution": {
     "iopub.execute_input": "2024-08-15T12:11:32.581489Z",
     "iopub.status.busy": "2024-08-15T12:11:32.581032Z",
     "iopub.status.idle": "2024-08-15T12:11:35.547413Z",
     "shell.execute_reply": "2024-08-15T12:11:35.545487Z",
     "shell.execute_reply.started": "2024-08-15T12:11:32.581463Z"
    }
   },
   "outputs": [
    {
     "name": "stdout",
     "output_type": "stream",
     "text": [
      "gensim                                   4.3.2\n",
      "scipy                                    1.12.0\n"
     ]
    }
   ],
   "source": [
    "!pip list | grep gensim\n",
    "!pip list | grep scipy"
   ]
  },
  {
   "cell_type": "code",
   "execution_count": 3,
   "id": "663b2160-2835-44b8-901d-794c8b61fe0f",
   "metadata": {
    "execution": {
     "iopub.execute_input": "2024-08-15T12:11:35.551959Z",
     "iopub.status.busy": "2024-08-15T12:11:35.550845Z",
     "iopub.status.idle": "2024-08-15T12:11:38.660450Z",
     "shell.execute_reply": "2024-08-15T12:11:38.659586Z",
     "shell.execute_reply.started": "2024-08-15T12:11:35.551907Z"
    }
   },
   "outputs": [
    {
     "name": "stderr",
     "output_type": "stream",
     "text": [
      "[nltk_data] Downloading package stopwords to\n",
      "[nltk_data]     /Users/changluo/nltk_data...\n",
      "[nltk_data]   Package stopwords is already up-to-date!\n"
     ]
    },
    {
     "data": {
      "text/plain": [
       "True"
      ]
     },
     "execution_count": 3,
     "metadata": {},
     "output_type": "execute_result"
    }
   ],
   "source": [
    "import time\n",
    "import json\n",
    "import redis\n",
    "from gensim.models import Word2Vec\n",
    "from gensim.utils import simple_preprocess\n",
    "from nltk.corpus import stopwords\n",
    "from nltk import download\n",
    "\n",
    "import util\n",
    "\n",
    "download('stopwords')"
   ]
  },
  {
   "cell_type": "markdown",
   "id": "af00a25e-c043-4560-a960-2284cecc0110",
   "metadata": {
    "execution": {
     "iopub.execute_input": "2024-08-15T10:01:38.132443Z",
     "iopub.status.busy": "2024-08-15T10:01:38.130418Z",
     "iopub.status.idle": "2024-08-15T10:01:38.142191Z",
     "shell.execute_reply": "2024-08-15T10:01:38.140964Z",
     "shell.execute_reply.started": "2024-08-15T10:01:38.132383Z"
    }
   },
   "source": [
    "## 1. Word2vec 生成 Embedding"
   ]
  },
  {
   "cell_type": "code",
   "execution_count": 4,
   "id": "a34ad648-5a51-4af1-b26b-2b2a32f597a2",
   "metadata": {
    "execution": {
     "iopub.execute_input": "2024-08-15T12:11:38.662596Z",
     "iopub.status.busy": "2024-08-15T12:11:38.662190Z",
     "iopub.status.idle": "2024-08-15T12:11:38.669147Z",
     "shell.execute_reply": "2024-08-15T12:11:38.668468Z",
     "shell.execute_reply.started": "2024-08-15T12:11:38.662569Z"
    }
   },
   "outputs": [
    {
     "data": {
      "text/plain": [
       "179"
      ]
     },
     "execution_count": 4,
     "metadata": {},
     "output_type": "execute_result"
    }
   ],
   "source": [
    "corpus = [\n",
    "    \"This is the first sentence for our word2vec example.\",\n",
    "    \"Here is another sentence.\",\n",
    "    \"Word2Vec is a great tool for word embeddings.\",\n",
    "    \"This example is meant to show how to generate word vectors.\"\n",
    "]\n",
    "\n",
    "stop_words = set(stopwords.words('english'))\n",
    "len(stop_words)"
   ]
  },
  {
   "cell_type": "code",
   "execution_count": 5,
   "id": "fb5cad37-ad1b-4282-8835-b032abf01520",
   "metadata": {
    "execution": {
     "iopub.execute_input": "2024-08-15T12:11:38.673459Z",
     "iopub.status.busy": "2024-08-15T12:11:38.673214Z",
     "iopub.status.idle": "2024-08-15T12:11:38.680349Z",
     "shell.execute_reply": "2024-08-15T12:11:38.679586Z",
     "shell.execute_reply.started": "2024-08-15T12:11:38.673439Z"
    }
   },
   "outputs": [
    {
     "data": {
      "text/plain": [
       "[['first', 'sentence', 'word', 'vec', 'example'],\n",
       " ['another', 'sentence'],\n",
       " ['word', 'vec', 'great', 'tool', 'word', 'embeddings'],\n",
       " ['example', 'meant', 'show', 'generate', 'word', 'vectors']]"
      ]
     },
     "execution_count": 5,
     "metadata": {},
     "output_type": "execute_result"
    }
   ],
   "source": [
    "processed_corpus = [\n",
    "    [word for word in simple_preprocess(doc) if word not in stop_words]\n",
    "    for doc in corpus\n",
    "]\n",
    "processed_corpus"
   ]
  },
  {
   "cell_type": "code",
   "execution_count": 6,
   "id": "38d689af-083c-4d4c-b528-facfb0fd5866",
   "metadata": {
    "execution": {
     "iopub.execute_input": "2024-08-15T12:11:38.682036Z",
     "iopub.status.busy": "2024-08-15T12:11:38.681577Z",
     "iopub.status.idle": "2024-08-15T12:11:38.697581Z",
     "shell.execute_reply": "2024-08-15T12:11:38.696782Z",
     "shell.execute_reply.started": "2024-08-15T12:11:38.682011Z"
    }
   },
   "outputs": [
    {
     "data": {
      "text/plain": [
       "<gensim.models.word2vec.Word2Vec at 0x7fd04c34c3d0>"
      ]
     },
     "execution_count": 6,
     "metadata": {},
     "output_type": "execute_result"
    }
   ],
   "source": [
    "model = Word2Vec(sentences=processed_corpus, vector_size=10, window=5, min_count=1, workers=4)\n",
    "model"
   ]
  },
  {
   "cell_type": "code",
   "execution_count": 7,
   "id": "52962952-0a35-4c0a-84fe-c6f8ca27473d",
   "metadata": {
    "execution": {
     "iopub.execute_input": "2024-08-15T12:11:38.699260Z",
     "iopub.status.busy": "2024-08-15T12:11:38.698848Z",
     "iopub.status.idle": "2024-08-15T12:11:38.704405Z",
     "shell.execute_reply": "2024-08-15T12:11:38.703610Z",
     "shell.execute_reply.started": "2024-08-15T12:11:38.699224Z"
    }
   },
   "outputs": [
    {
     "data": {
      "text/plain": [
       "<gensim.models.keyedvectors.KeyedVectors at 0x7fd04c34f730>"
      ]
     },
     "execution_count": 7,
     "metadata": {},
     "output_type": "execute_result"
    }
   ],
   "source": [
    "word_vectors = model.wv\n",
    "word_vectors"
   ]
  },
  {
   "cell_type": "code",
   "execution_count": 8,
   "id": "62ad84e2-9483-4504-8d53-a01265a632c2",
   "metadata": {
    "execution": {
     "iopub.execute_input": "2024-08-15T12:11:38.705721Z",
     "iopub.status.busy": "2024-08-15T12:11:38.705329Z",
     "iopub.status.idle": "2024-08-15T12:11:38.711107Z",
     "shell.execute_reply": "2024-08-15T12:11:38.710453Z",
     "shell.execute_reply.started": "2024-08-15T12:11:38.705696Z"
    }
   },
   "outputs": [
    {
     "data": {
      "text/plain": [
       "(10,)"
      ]
     },
     "execution_count": 8,
     "metadata": {},
     "output_type": "execute_result"
    }
   ],
   "source": [
    "vector = word_vectors['word']\n",
    "vector.shape"
   ]
  },
  {
   "cell_type": "code",
   "execution_count": 9,
   "id": "b599277a-bfd5-4c6a-af2d-95e1827b706b",
   "metadata": {
    "execution": {
     "iopub.execute_input": "2024-08-15T12:11:38.712537Z",
     "iopub.status.busy": "2024-08-15T12:11:38.712070Z",
     "iopub.status.idle": "2024-08-15T12:11:38.718973Z",
     "shell.execute_reply": "2024-08-15T12:11:38.717808Z",
     "shell.execute_reply.started": "2024-08-15T12:11:38.712512Z"
    }
   },
   "outputs": [
    {
     "data": {
      "text/plain": [
       "array([-0.00534929,  0.00237317,  0.05104667,  0.09009523, -0.09301735,\n",
       "       -0.07117365,  0.06458575,  0.08973929, -0.05016771, -0.03763947],\n",
       "      dtype=float32)"
      ]
     },
     "execution_count": 9,
     "metadata": {},
     "output_type": "execute_result"
    }
   ],
   "source": [
    "vector"
   ]
  },
  {
   "cell_type": "code",
   "execution_count": 10,
   "id": "5168ba3c-8003-4362-87cd-730e869ce3ab",
   "metadata": {
    "execution": {
     "iopub.execute_input": "2024-08-15T12:11:38.721203Z",
     "iopub.status.busy": "2024-08-15T12:11:38.720734Z",
     "iopub.status.idle": "2024-08-15T12:11:38.726571Z",
     "shell.execute_reply": "2024-08-15T12:11:38.725750Z",
     "shell.execute_reply.started": "2024-08-15T12:11:38.721164Z"
    }
   },
   "outputs": [
    {
     "data": {
      "text/plain": [
       "13"
      ]
     },
     "execution_count": 10,
     "metadata": {},
     "output_type": "execute_result"
    }
   ],
   "source": [
    "# 待存 key - Embedding 对\n",
    "words = [ee for e in processed_corpus for ee in e]\n",
    "dct = { w : word_vectors[w] for w in words }\n",
    "len(dct)"
   ]
  },
  {
   "cell_type": "markdown",
   "id": "177a263d-c983-43f7-b846-97e15dc68fa4",
   "metadata": {},
   "source": [
    "## 2. 数据类型转换\n",
    "\n",
    "由于 Embedding 是 list 类型的。为了将 list 存入 Redis，我们需要建一个将 list 转换成 str 的 pipeline."
   ]
  },
  {
   "cell_type": "code",
   "execution_count": 11,
   "id": "ad5fe309-60f4-4443-94b5-782c8d7fa9a6",
   "metadata": {
    "execution": {
     "iopub.execute_input": "2024-08-15T12:11:38.728789Z",
     "iopub.status.busy": "2024-08-15T12:11:38.728435Z",
     "iopub.status.idle": "2024-08-15T12:11:38.737986Z",
     "shell.execute_reply": "2024-08-15T12:11:38.737366Z",
     "shell.execute_reply.started": "2024-08-15T12:11:38.728766Z"
    }
   },
   "outputs": [
    {
     "data": {
      "text/plain": [
       "True"
      ]
     },
     "execution_count": 11,
     "metadata": {},
     "output_type": "execute_result"
    }
   ],
   "source": [
    "# 创建一个 RedisHandler 实例\n",
    "r = util.RedisHandler()\n",
    "\n",
    "# 测试下 Redis 通不通\n",
    "r.ping()"
   ]
  },
  {
   "cell_type": "code",
   "execution_count": 12,
   "id": "4af17ce6-9f1b-4ff3-a8e4-ee1f2357a5a6",
   "metadata": {
    "execution": {
     "iopub.execute_input": "2024-08-15T12:11:38.739292Z",
     "iopub.status.busy": "2024-08-15T12:11:38.738808Z",
     "iopub.status.idle": "2024-08-15T12:11:38.744891Z",
     "shell.execute_reply": "2024-08-15T12:11:38.744067Z",
     "shell.execute_reply.started": "2024-08-15T12:11:38.739259Z"
    }
   },
   "outputs": [
    {
     "data": {
      "text/plain": [
       "'[0.0234837643802166, -0.045190323144197464, 0.08388731628656387, -0.09858163446187973, 0.06764640659093857, 0.02914416790008545, -0.04932831600308418, 0.043981872498989105, -0.0173957459628582, 0.06711383908987045]'"
      ]
     },
     "execution_count": 12,
     "metadata": {},
     "output_type": "execute_result"
    }
   ],
   "source": [
    "# 将 list 存入 Redis 之前，先用 json.dumps 把 list 转换成 str\n",
    "my_list = dct['first'].tolist()\n",
    "lst_str = json.dumps(my_list)\n",
    "lst_str"
   ]
  },
  {
   "cell_type": "code",
   "execution_count": 13,
   "id": "82de3066-63b9-43fd-9a00-492d668fa5cc",
   "metadata": {
    "execution": {
     "iopub.execute_input": "2024-08-15T12:11:38.746024Z",
     "iopub.status.busy": "2024-08-15T12:11:38.745727Z",
     "iopub.status.idle": "2024-08-15T12:11:38.752684Z",
     "shell.execute_reply": "2024-08-15T12:11:38.751952Z",
     "shell.execute_reply.started": "2024-08-15T12:11:38.746003Z"
    }
   },
   "outputs": [
    {
     "data": {
      "text/plain": [
       "list"
      ]
     },
     "execution_count": 13,
     "metadata": {},
     "output_type": "execute_result"
    }
   ],
   "source": [
    "# 读取时，再用 json.loads 将 str 转回 list\n",
    "lst = json.loads(lst_str)\n",
    "type(lst)"
   ]
  },
  {
   "cell_type": "code",
   "execution_count": 14,
   "id": "3b7d018b-e9a4-4b67-81b2-33fba6759395",
   "metadata": {
    "execution": {
     "iopub.execute_input": "2024-08-15T12:11:38.754417Z",
     "iopub.status.busy": "2024-08-15T12:11:38.753766Z",
     "iopub.status.idle": "2024-08-15T12:11:38.760484Z",
     "shell.execute_reply": "2024-08-15T12:11:38.759411Z",
     "shell.execute_reply.started": "2024-08-15T12:11:38.754387Z"
    }
   },
   "outputs": [
    {
     "data": {
      "text/plain": [
       "(str,\n",
       " '[0.0234837643802166, -0.045190323144197464, 0.08388731628656387, -0.09858163446187973, 0.06764640659093857, 0.02914416790008545, -0.04932831600308418, 0.043981872498989105, -0.0173957459628582, 0.06711383908987045]')"
      ]
     },
     "execution_count": 14,
     "metadata": {},
     "output_type": "execute_result"
    }
   ],
   "source": [
    "# 在 util.py 新建 Cast 类，用来做上述类型转换\n",
    "cast = util.Cast()\n",
    "\n",
    "# list to str\n",
    "r = cast.list2str(my_list)\n",
    "type(r), r"
   ]
  },
  {
   "cell_type": "code",
   "execution_count": 15,
   "id": "a0258e70-51d5-4451-a8ba-00ad2dae99a1",
   "metadata": {
    "execution": {
     "iopub.execute_input": "2024-08-15T12:11:38.762115Z",
     "iopub.status.busy": "2024-08-15T12:11:38.761722Z",
     "iopub.status.idle": "2024-08-15T12:11:38.768413Z",
     "shell.execute_reply": "2024-08-15T12:11:38.767182Z",
     "shell.execute_reply.started": "2024-08-15T12:11:38.762093Z"
    }
   },
   "outputs": [
    {
     "data": {
      "text/plain": [
       "(list,\n",
       " [0.0234837643802166,\n",
       "  -0.045190323144197464,\n",
       "  0.08388731628656387,\n",
       "  -0.09858163446187973,\n",
       "  0.06764640659093857,\n",
       "  0.02914416790008545,\n",
       "  -0.04932831600308418,\n",
       "  0.043981872498989105,\n",
       "  -0.0173957459628582,\n",
       "  0.06711383908987045])"
      ]
     },
     "execution_count": 15,
     "metadata": {},
     "output_type": "execute_result"
    }
   ],
   "source": [
    "# str to list\n",
    "r = cast.str2list(r)\n",
    "type(r), r"
   ]
  },
  {
   "cell_type": "markdown",
   "id": "52954af0-16b1-4918-9fd0-34934d49fbc6",
   "metadata": {
    "execution": {
     "iopub.execute_input": "2024-08-15T10:37:39.903472Z",
     "iopub.status.busy": "2024-08-15T10:37:39.901092Z",
     "iopub.status.idle": "2024-08-15T10:37:39.913862Z",
     "shell.execute_reply": "2024-08-15T10:37:39.912695Z",
     "shell.execute_reply.started": "2024-08-15T10:37:39.903391Z"
    }
   },
   "source": [
    "## 3. 存取 Embedding\n",
    "\n",
    "现在，我们有了能将 list 转换成 str 的 `Cast` 类，还有能将 KV 对送入 Redis 的 `RedisHandler` 类。下面，我们综合两个类的功能，实现 Embedding 的存取。"
   ]
  },
  {
   "cell_type": "code",
   "execution_count": 16,
   "id": "a4dcaca6-d397-4cc4-b674-4d43a773310b",
   "metadata": {
    "execution": {
     "iopub.execute_input": "2024-08-15T12:11:38.770445Z",
     "iopub.status.busy": "2024-08-15T12:11:38.770042Z",
     "iopub.status.idle": "2024-08-15T12:11:38.786333Z",
     "shell.execute_reply": "2024-08-15T12:11:38.785706Z",
     "shell.execute_reply.started": "2024-08-15T12:11:38.770421Z"
    }
   },
   "outputs": [
    {
     "name": "stdout",
     "output_type": "stream",
     "text": [
      "success_rate: 1.00\n"
     ]
    }
   ],
   "source": [
    "rh = util.RedisHandler()\n",
    "cast = util.Cast()\n",
    "\n",
    "# 存储\n",
    "success_num, cnt = 0, 0\n",
    "for k, v in dct.items():\n",
    "    v = cast.list2str(v.tolist())\n",
    "    if rh.set(k, v):\n",
    "        success_num += 1\n",
    "    cnt += 1\n",
    "\n",
    "success_rate = success_num / cnt\n",
    "print(f'success_rate: {success_rate:.2f}')"
   ]
  },
  {
   "cell_type": "code",
   "execution_count": 17,
   "id": "dbd092c4-91e3-45b7-afc9-3930029e721a",
   "metadata": {
    "execution": {
     "iopub.execute_input": "2024-08-15T12:11:38.787789Z",
     "iopub.status.busy": "2024-08-15T12:11:38.787359Z",
     "iopub.status.idle": "2024-08-15T12:11:38.802888Z",
     "shell.execute_reply": "2024-08-15T12:11:38.802206Z",
     "shell.execute_reply.started": "2024-08-15T12:11:38.787761Z"
    }
   },
   "outputs": [
    {
     "data": {
      "text/plain": [
       "True"
      ]
     },
     "execution_count": 17,
     "metadata": {},
     "output_type": "execute_result"
    }
   ],
   "source": [
    "# 取回\n",
    "fetch_dict = dict()\n",
    "for k in dct.keys():\n",
    "    v = rh.get(k)\n",
    "    if v:\n",
    "        v = cast.str2list(v)\n",
    "        fetch_dict[k] = v\n",
    "    else:\n",
    "        print(f'Can not fetch key: {k}')\n",
    "\n",
    "# 与原 Embedding 对比\n",
    "fetch_dict == { k : v.tolist() for k, v in dct.items()}"
   ]
  },
  {
   "cell_type": "code",
   "execution_count": null,
   "id": "9a1640b0-23b6-4b63-9c70-7d1de7633c69",
   "metadata": {},
   "outputs": [],
   "source": []
  }
 ],
 "metadata": {
  "kernelspec": {
   "display_name": "Python (py3.10)",
   "language": "python",
   "name": "python_3_10"
  },
  "language_info": {
   "codemirror_mode": {
    "name": "ipython",
    "version": 3
   },
   "file_extension": ".py",
   "mimetype": "text/x-python",
   "name": "python",
   "nbconvert_exporter": "python",
   "pygments_lexer": "ipython3",
   "version": "3.10.14"
  }
 },
 "nbformat": 4,
 "nbformat_minor": 5
}
